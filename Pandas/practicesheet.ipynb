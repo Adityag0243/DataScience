{
 "cells": [
  {
   "cell_type": "code",
   "execution_count": 2,
   "id": "49e88357-0353-446e-a428-3eacd7b2bbaf",
   "metadata": {},
   "outputs": [
    {
     "name": "stdout",
     "output_type": "stream",
     "text": [
      "Requirement already satisfied: pandas in c:\\users\\adity\\anaconda3\\lib\\site-packages (2.1.4)\n",
      "Requirement already satisfied: numpy<2,>=1.23.2 in c:\\users\\adity\\anaconda3\\lib\\site-packages (from pandas) (1.26.4)\n",
      "Requirement already satisfied: python-dateutil>=2.8.2 in c:\\users\\adity\\anaconda3\\lib\\site-packages (from pandas) (2.8.2)\n",
      "Requirement already satisfied: pytz>=2020.1 in c:\\users\\adity\\anaconda3\\lib\\site-packages (from pandas) (2023.3.post1)\n",
      "Requirement already satisfied: tzdata>=2022.1 in c:\\users\\adity\\anaconda3\\lib\\site-packages (from pandas) (2023.3)\n",
      "Requirement already satisfied: six>=1.5 in c:\\users\\adity\\anaconda3\\lib\\site-packages (from python-dateutil>=2.8.2->pandas) (1.16.0)\n",
      "Note: you may need to restart the kernel to use updated packages.\n"
     ]
    }
   ],
   "source": [
    "pip install pandas"
   ]
  },
  {
   "cell_type": "code",
   "execution_count": 3,
   "id": "27c50ea3-e2fe-458c-afed-09f4c776b768",
   "metadata": {},
   "outputs": [],
   "source": [
    "import pandas as pd\n"
   ]
  },
  {
   "cell_type": "code",
   "execution_count": 6,
   "id": "374a65eb-686a-446b-a867-f9f52a09912f",
   "metadata": {},
   "outputs": [
    {
     "ename": "SyntaxError",
     "evalue": "(unicode error) 'unicodeescape' codec can't decode bytes in position 2-3: truncated \\UXXXXXXXX escape (1056448128.py, line 2)",
     "output_type": "error",
     "traceback": [
      "\u001b[1;36m  Cell \u001b[1;32mIn[6], line 2\u001b[1;36m\u001b[0m\n\u001b[1;33m    df = pd.read_csv(\"C:\\Users\\adity\\Downloads\\one_Sample_Dataset - Sample_Dataset.csv\")\u001b[0m\n\u001b[1;37m                                                                                       ^\u001b[0m\n\u001b[1;31mSyntaxError\u001b[0m\u001b[1;31m:\u001b[0m (unicode error) 'unicodeescape' codec can't decode bytes in position 2-3: truncated \\UXXXXXXXX escape\n"
     ]
    }
   ],
   "source": [
    "# Read the CSV file into a DataFrame\n",
    "df = pd.read_csv(\"C:\\Users\\adity\\Downloads\\one_Sample_Dataset - Sample_Dataset.csv\")\n"
   ]
  },
  {
   "cell_type": "code",
   "execution_count": 7,
   "id": "93ad6d32-8bbd-456c-8a44-f9dac897f141",
   "metadata": {},
   "outputs": [
    {
     "ename": "NameError",
     "evalue": "name 'df' is not defined",
     "output_type": "error",
     "traceback": [
      "\u001b[1;31m---------------------------------------------------------------------------\u001b[0m",
      "\u001b[1;31mNameError\u001b[0m                                 Traceback (most recent call last)",
      "Cell \u001b[1;32mIn[7], line 1\u001b[0m\n\u001b[1;32m----> 1\u001b[0m df\n",
      "\u001b[1;31mNameError\u001b[0m: name 'df' is not defined"
     ]
    }
   ],
   "source": [
    "df"
   ]
  },
  {
   "cell_type": "code",
   "execution_count": null,
   "id": "81dec48a-8628-4bb1-bcd3-eedf7edd16eb",
   "metadata": {},
   "outputs": [],
   "source": [
    "# Specific value to remove\n",
    "value_to_remove = \"Product\"\n",
    "\n",
    "# Filter rows where column 'A' is not equal to value_to_remove\n",
    "df_filtered = df[df['Product'] != value_to_remove]\n"
   ]
  },
  {
   "cell_type": "code",
   "execution_count": null,
   "id": "d4011bac-7054-4f32-bbbc-9584e8d78446",
   "metadata": {},
   "outputs": [],
   "source": [
    "# Save the filtered DataFrame to a new CSV file\n",
    "# Drop rows where all values are NaN (blank rows)\n",
    "df_filtered = df_filtered.dropna(how='all')\n",
    "\n",
    "\n",
    "df_filtered.to_csv('filtereddata.csv', index=False)\n"
   ]
  },
  {
   "cell_type": "code",
   "execution_count": null,
   "id": "e1bf35d8-4805-4d59-9420-84aed2733a75",
   "metadata": {},
   "outputs": [],
   "source": [
    "df_filtered"
   ]
  },
  {
   "cell_type": "code",
   "execution_count": null,
   "id": "53d8bb04-bdfa-4d07-8f32-502b732370e1",
   "metadata": {},
   "outputs": [],
   "source": [
    "df=df_filtered.drop(columns=['date','time'])"
   ]
  },
  {
   "cell_type": "code",
   "execution_count": null,
   "id": "e67d543a-9640-4f7e-ae12-c6a863d66d34",
   "metadata": {},
   "outputs": [],
   "source": [
    "df['Order Date']=pd.to_datetime(df['Order Date'])\n",
    "df['date']=df['Order Date'].dt.date\n",
    "df['time'] = df['Order Date'].dt.time\n"
   ]
  },
  {
   "cell_type": "code",
   "execution_count": null,
   "id": "29161186-7579-41e6-867a-a1e0ecaca072",
   "metadata": {
    "scrolled": true
   },
   "outputs": [],
   "source": [
    "df"
   ]
  },
  {
   "cell_type": "code",
   "execution_count": null,
   "id": "b04e7b15-efc2-4ae5-b3c4-81e8555ad9b8",
   "metadata": {},
   "outputs": [],
   "source": [
    "# Convert the 'date' column to datetime type\n",
    "df['date'] = pd.to_datetime(df['date'], format='%Y-%m-%d')\n",
    "df['day'] = df['date'].dt.day\n",
    "df['month'] = df['date'].dt.month\n",
    "df['year'] = df['date'].dt.year\n",
    "\n",
    "# Convert the 'time' column to datetime type\n",
    "df['time'] = pd.to_datetime(df['time'], format='%H:%M:%S')\n",
    "df['hour']=df['time'].dt.hour\n",
    "df"
   ]
  },
  {
   "cell_type": "code",
   "execution_count": null,
   "id": "669a22c2-5bc9-4e7d-96ae-d08edbcfcb98",
   "metadata": {},
   "outputs": [],
   "source": [
    "print(len(df[(df['hour']>8) & (df['hour']<10 )]))"
   ]
  },
  {
   "cell_type": "code",
   "execution_count": null,
   "id": "51e6f33a-937b-48d0-a1c7-6d03682195cb",
   "metadata": {},
   "outputs": [],
   "source": [
    "df = df.sort_values(by='hour')\n",
    "print(len(df[(df['hour']>8) & (df['hour']<10 )]))"
   ]
  },
  {
   "cell_type": "code",
   "execution_count": null,
   "id": "27c40963-8a4d-4b40-9d4c-de80b5280634",
   "metadata": {},
   "outputs": [],
   "source": [
    "df.to_csv('filtereddata1.csv', index=False)"
   ]
  },
  {
   "cell_type": "code",
   "execution_count": null,
   "id": "51a9d984-67ca-4da9-9829-a8b541fecdc6",
   "metadata": {},
   "outputs": [],
   "source": [
    "weekend_count = df[df['date'].dt.weekday.isin([5, 6])].shape[0]\n",
    "print(weekend_count)"
   ]
  },
  {
   "cell_type": "code",
   "execution_count": null,
   "id": "5cfb6d79-46bb-42b7-983d-cbda8f4c6cfd",
   "metadata": {},
   "outputs": [],
   "source": [
    "weekend_count = df[df['date'].dt.weekday.isin([0,1,2,3,4])].shape[0]\n",
    "print(weekend_count)"
   ]
  },
  {
   "cell_type": "code",
   "execution_count": null,
   "id": "d880bed4-5b68-4c8f-895a-c9b4bf25bec5",
   "metadata": {},
   "outputs": [],
   "source": [
    "len(df)"
   ]
  },
  {
   "cell_type": "code",
   "execution_count": null,
   "id": "1b7cac9f-c578-4563-8905-84a1ecca681a",
   "metadata": {},
   "outputs": [],
   "source": [
    "# Add a new column 'is_weekend' to indicate if the date is a weekend\n",
    "df['is_weekend'] = df['date'].dt.weekday.isin([5, 6])\n",
    "df"
   ]
  },
  {
   "cell_type": "code",
   "execution_count": null,
   "id": "b8240c36-c6b9-4d02-8817-f107beef878f",
   "metadata": {},
   "outputs": [],
   "source": [
    "df['Quantity Ordered'] = df['Quantity Ordered'].astype(int)\n",
    "sum_value = df.loc[df['is_weekend'] ==True, 'Quantity Ordered'].sum()\n",
    "print(sum_value)"
   ]
  },
  {
   "cell_type": "code",
   "execution_count": null,
   "id": "de7b3f43-04b1-4251-b9c1-62891de13609",
   "metadata": {},
   "outputs": [],
   "source": [
    "sum_value = df.loc[df['is_weekend'] ==False, 'Quantity Ordered'].sum()\n",
    "print(sum_value)"
   ]
  },
  {
   "cell_type": "code",
   "execution_count": 5,
   "id": "ccad3a76-e71a-4372-8007-0bae4d082340",
   "metadata": {},
   "outputs": [
    {
     "ename": "NameError",
     "evalue": "name 'df' is not defined",
     "output_type": "error",
     "traceback": [
      "\u001b[1;31m---------------------------------------------------------------------------\u001b[0m",
      "\u001b[1;31mNameError\u001b[0m                                 Traceback (most recent call last)",
      "Cell \u001b[1;32mIn[5], line 1\u001b[0m\n\u001b[1;32m----> 1\u001b[0m df[\u001b[38;5;124m'\u001b[39m\u001b[38;5;124mQuantity Ordered\u001b[39m\u001b[38;5;124m'\u001b[39m]\u001b[38;5;241m.\u001b[39msum()\n",
      "\u001b[1;31mNameError\u001b[0m: name 'df' is not defined"
     ]
    }
   ],
   "source": [
    "df['Quantity Ordered'].sum()"
   ]
  },
  {
   "cell_type": "code",
   "execution_count": null,
   "id": "ac1d4edf-f697-4207-9091-cd73e7bb2a00",
   "metadata": {},
   "outputs": [],
   "source": []
  }
 ],
 "metadata": {
  "kernelspec": {
   "display_name": "Python 3 (ipykernel)",
   "language": "python",
   "name": "python3"
  },
  "language_info": {
   "codemirror_mode": {
    "name": "ipython",
    "version": 3
   },
   "file_extension": ".py",
   "mimetype": "text/x-python",
   "name": "python",
   "nbconvert_exporter": "python",
   "pygments_lexer": "ipython3",
   "version": "3.11.7"
  }
 },
 "nbformat": 4,
 "nbformat_minor": 5
}
