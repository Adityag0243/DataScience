{
 "cells": [
  {
   "cell_type": "code",
   "execution_count": 1,
   "id": "5067ba18-4cf6-42e0-a6df-a9f0ed0b0c7b",
   "metadata": {},
   "outputs": [
    {
     "data": {
      "text/plain": [
       "'Hey Ram'"
      ]
     },
     "execution_count": 1,
     "metadata": {},
     "output_type": "execute_result"
    }
   ],
   "source": [
    "\"Hey Ram\""
   ]
  },
  {
   "cell_type": "code",
   "execution_count": 27,
   "id": "c68dd9cd-3b3f-40a9-bfdb-f8fd147b35c4",
   "metadata": {},
   "outputs": [],
   "source": [
    "list = [1,2,'2',\"raju\"]"
   ]
  },
  {
   "cell_type": "code",
   "execution_count": 29,
   "id": "b0849ef2-81cf-4821-91fc-d17eb224ca2a",
   "metadata": {},
   "outputs": [
    {
     "name": "stdout",
     "output_type": "stream",
     "text": [
      "[1, 2, '2', 'raju', 'bananan']\n"
     ]
    }
   ],
   "source": [
    "list.append(\"bananan\")\n",
    "print(list)"
   ]
  },
  {
   "cell_type": "code",
   "execution_count": 31,
   "id": "a04f3acf-da0b-4a1c-b99a-81b90848b078",
   "metadata": {},
   "outputs": [
    {
     "ename": "TypeError",
     "evalue": "'str' object cannot be interpreted as an integer",
     "output_type": "error",
     "traceback": [
      "\u001b[1;31m---------------------------------------------------------------------------\u001b[0m",
      "\u001b[1;31mTypeError\u001b[0m                                 Traceback (most recent call last)",
      "Cell \u001b[1;32mIn[31], line 1\u001b[0m\n\u001b[1;32m----> 1\u001b[0m \u001b[38;5;28;43mlist\u001b[39;49m\u001b[38;5;241;43m.\u001b[39;49m\u001b[43minsert\u001b[49m\u001b[43m(\u001b[49m\u001b[38;5;124;43m\"\u001b[39;49m\u001b[38;5;124;43mok\u001b[39;49m\u001b[38;5;124;43m\"\u001b[39;49m\u001b[43m,\u001b[49m\u001b[38;5;241;43m2\u001b[39;49m\u001b[43m)\u001b[49m\n",
      "\u001b[1;31mTypeError\u001b[0m: 'str' object cannot be interpreted as an integer"
     ]
    }
   ],
   "source": [
    "list.insert(\"ok\",2)"
   ]
  },
  {
   "cell_type": "code",
   "execution_count": null,
   "id": "4fc086ed-022a-42e7-bf51-4f2205db3b66",
   "metadata": {},
   "outputs": [],
   "source": []
  },
  {
   "cell_type": "code",
   "execution_count": 34,
   "id": "510c3b3d-eea4-41a8-b241-3fd51e318d8a",
   "metadata": {},
   "outputs": [
    {
     "name": "stdout",
     "output_type": "stream",
     "text": [
      "[1, 2, 'ok', '2', 'raju', 'bananan']\n"
     ]
    }
   ],
   "source": [
    "list.insert(2,\"ok\")\n",
    "print(list)"
   ]
  },
  {
   "cell_type": "code",
   "execution_count": 36,
   "id": "992a3163-cb04-407b-9f77-633e1b121dd1",
   "metadata": {},
   "outputs": [],
   "source": [
    "list2 =[\"samajha \"]"
   ]
  },
  {
   "cell_type": "code",
   "execution_count": 38,
   "id": "9e4c97be-8ec1-40e5-b291-cda5564ab4b6",
   "metadata": {},
   "outputs": [
    {
     "name": "stdout",
     "output_type": "stream",
     "text": [
      "[1, 2, 'ok', '2', 'raju', 'bananan', 'samajha ']\n"
     ]
    }
   ],
   "source": [
    "list = list + list2\n",
    "print(list)"
   ]
  },
  {
   "cell_type": "code",
   "execution_count": 42,
   "id": "8f939969-ad95-44b3-b93b-54bd962eb4fa",
   "metadata": {},
   "outputs": [
    {
     "name": "stdout",
     "output_type": "stream",
     "text": [
      "['this', [1, 2, 'ok', '2', 'raju', 'bananan', 'samajha ']]\n"
     ]
    }
   ],
   "source": [
    "list3 = [\"this\"]\n",
    "list3.append(list)\n",
    "print(list3)"
   ]
  },
  {
   "cell_type": "code",
   "execution_count": null,
   "id": "d48126e5-7b90-46f5-aeb3-80d566e84e72",
   "metadata": {},
   "outputs": [],
   "source": []
  }
 ],
 "metadata": {
  "kernelspec": {
   "display_name": "Python 3 (ipykernel)",
   "language": "python",
   "name": "python3"
  },
  "language_info": {
   "codemirror_mode": {
    "name": "ipython",
    "version": 3
   },
   "file_extension": ".py",
   "mimetype": "text/x-python",
   "name": "python",
   "nbconvert_exporter": "python",
   "pygments_lexer": "ipython3",
   "version": "3.12.7"
  }
 },
 "nbformat": 4,
 "nbformat_minor": 5
}
