{
 "cells": [
  {
   "cell_type": "code",
   "execution_count": 15,
   "id": "aaa5e023-aade-4d3a-8727-be8e8d01f6d3",
   "metadata": {
    "tags": []
   },
   "outputs": [],
   "source": [
    "# distinct"
   ]
  },
  {
   "cell_type": "code",
   "execution_count": 16,
   "id": "5fe92efd-412e-4f32-a75b-bb334657af45",
   "metadata": {
    "tags": []
   },
   "outputs": [],
   "source": [
    "# count() as ..."
   ]
  },
  {
   "cell_type": "code",
   "execution_count": 17,
   "id": "af65570b-6324-4fa5-82b1-360357d0e6d1",
   "metadata": {
    "tags": []
   },
   "outputs": [],
   "source": [
    "#count( distinct   )"
   ]
  },
  {
   "cell_type": "code",
   "execution_count": 18,
   "id": "eafe739b-2aba-4308-8355-6abedf2cac24",
   "metadata": {
    "tags": []
   },
   "outputs": [],
   "source": [
    "#limit"
   ]
  },
  {
   "cell_type": "code",
   "execution_count": 21,
   "id": "3d36c43d-02c1-491a-bca0-aa850bcdc1a4",
   "metadata": {
    "tags": []
   },
   "outputs": [],
   "source": [
    "#where   IN(a, b ,c) this is membership operation"
   ]
  },
  {
   "cell_type": "code",
   "execution_count": 22,
   "id": "d699ee17-0c4c-421c-8c1e-b1c2ac1c2494",
   "metadata": {
    "tags": []
   },
   "outputs": [],
   "source": [
    "# select * \n",
    "# from cardekho_dataset \n",
    "# where fuel_type='Diesel' and seller_type='Dealer';       #use of \"and or between \"\n",
    "\n",
    "#start from 1.from then 2.where 3.select 4.limit"
   ]
  },
  {
   "cell_type": "code",
   "execution_count": 23,
   "id": "2f3ddfc6-f1b8-417a-b6da-0601c45d9dc8",
   "metadata": {
    "tags": []
   },
   "outputs": [],
   "source": [
    "#filtering like( % and _ ) "
   ]
  },
  {
   "cell_type": "code",
   "execution_count": 24,
   "id": "aa020e4e-b39e-461e-bbfa-480d2e1dc030",
   "metadata": {
    "tags": []
   },
   "outputs": [],
   "source": [
    "#is null is not null"
   ]
  },
  {
   "cell_type": "code",
   "execution_count": 1,
   "id": "c108a0cf-dd95-46ec-b32d-f74e20c52c8a",
   "metadata": {},
   "outputs": [
    {
     "data": {
      "text/plain": [
       "2305843009213693952"
      ]
     },
     "execution_count": 1,
     "metadata": {},
     "output_type": "execute_result"
    }
   ],
   "source": [
    "2**61"
   ]
  },
  {
   "cell_type": "code",
   "execution_count": null,
   "id": "6eca6551-6f3e-43ec-a4c8-849e99a6cc2e",
   "metadata": {},
   "outputs": [],
   "source": []
  }
 ],
 "metadata": {
  "kernelspec": {
   "display_name": "Python 3 (ipykernel)",
   "language": "python",
   "name": "python3"
  },
  "language_info": {
   "codemirror_mode": {
    "name": "ipython",
    "version": 3
   },
   "file_extension": ".py",
   "mimetype": "text/x-python",
   "name": "python",
   "nbconvert_exporter": "python",
   "pygments_lexer": "ipython3",
   "version": "3.11.5"
  }
 },
 "nbformat": 4,
 "nbformat_minor": 5
}
