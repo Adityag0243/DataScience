{
 "cells": [
  {
   "cell_type": "code",
   "execution_count": 1,
   "id": "aaa5e023-aade-4d3a-8727-be8e8d01f6d3",
   "metadata": {
    "tags": []
   },
   "outputs": [],
   "source": [
    "# distinct"
   ]
  },
  {
   "cell_type": "code",
   "execution_count": 4,
   "id": "5fe92efd-412e-4f32-a75b-bb334657af45",
   "metadata": {
    "tags": []
   },
   "outputs": [],
   "source": [
    "# count() as ..."
   ]
  },
  {
   "cell_type": "code",
   "execution_count": 5,
   "id": "af65570b-6324-4fa5-82b1-360357d0e6d1",
   "metadata": {
    "tags": []
   },
   "outputs": [],
   "source": [
    "#count( distinct   )"
   ]
  },
  {
   "cell_type": "code",
   "execution_count": 6,
   "id": "eafe739b-2aba-4308-8355-6abedf2cac24",
   "metadata": {
    "tags": []
   },
   "outputs": [],
   "source": [
    "#limit"
   ]
  },
  {
   "cell_type": "code",
   "execution_count": 7,
   "id": "3d36c43d-02c1-491a-bca0-aa850bcdc1a4",
   "metadata": {
    "tags": []
   },
   "outputs": [],
   "source": [
    "#where"
   ]
  },
  {
   "cell_type": "code",
   "execution_count": 13,
   "id": "d699ee17-0c4c-421c-8c1e-b1c2ac1c2494",
   "metadata": {
    "tags": []
   },
   "outputs": [],
   "source": [
    "# select * \n",
    "# from cardekho_dataset \n",
    "# where fuel_type='Diesel' and seller_type='Dealer';       #use of and or between \n",
    "\n",
    "#start from 1.from then 2.where 3.select 4.limit"
   ]
  },
  {
   "cell_type": "code",
   "execution_count": null,
   "id": "2f3ddfc6-f1b8-417a-b6da-0601c45d9dc8",
   "metadata": {},
   "outputs": [],
   "source": []
  }
 ],
 "metadata": {
  "kernelspec": {
   "display_name": "Python 3 (ipykernel)",
   "language": "python",
   "name": "python3"
  },
  "language_info": {
   "codemirror_mode": {
    "name": "ipython",
    "version": 3
   },
   "file_extension": ".py",
   "mimetype": "text/x-python",
   "name": "python",
   "nbconvert_exporter": "python",
   "pygments_lexer": "ipython3",
   "version": "3.11.5"
  }
 },
 "nbformat": 4,
 "nbformat_minor": 5
}
